{
 "cells": [
  {
   "cell_type": "markdown",
   "id": "7d03379e",
   "metadata": {},
   "source": [
    "# Question 1\n",
    "What data type is each of the following (evaluate where necessary)?\n",
    "\n",
    "5\n",
    "\n",
    "5.0\n",
    "\n",
    "5 > 1\n",
    "\n",
    "'5'\n",
    "\n",
    "5 * 2\n",
    "\n",
    "'5' * 2\n",
    "\n",
    "'5' + '2'\n",
    "\n",
    "5 / 2\n",
    "\n",
    "5 % 2\n",
    "\n",
    "{5, 2, 1}\n",
    "\n",
    "5 == 3\n",
    "\n",
    "Pi (the number)"
   ]
  },
  {
   "cell_type": "code",
   "execution_count": 1,
   "id": "1ef00533",
   "metadata": {},
   "outputs": [
    {
     "name": "stdout",
     "output_type": "stream",
     "text": [
      "<class 'int'>\n"
     ]
    }
   ],
   "source": [
    "print(type(5))"
   ]
  },
  {
   "cell_type": "code",
   "execution_count": 2,
   "id": "62ef01ad",
   "metadata": {},
   "outputs": [
    {
     "data": {
      "text/plain": [
       "float"
      ]
     },
     "execution_count": 2,
     "metadata": {},
     "output_type": "execute_result"
    }
   ],
   "source": [
    "type(5.0)"
   ]
  },
  {
   "cell_type": "code",
   "execution_count": 3,
   "id": "4bf8ce4d",
   "metadata": {},
   "outputs": [
    {
     "data": {
      "text/plain": [
       "bool"
      ]
     },
     "execution_count": 3,
     "metadata": {},
     "output_type": "execute_result"
    }
   ],
   "source": [
    "type(5>1)"
   ]
  },
  {
   "cell_type": "code",
   "execution_count": 11,
   "id": "8c3d097b",
   "metadata": {},
   "outputs": [
    {
     "data": {
      "text/plain": [
       "str"
      ]
     },
     "execution_count": 11,
     "metadata": {},
     "output_type": "execute_result"
    }
   ],
   "source": [
    "type('5')"
   ]
  },
  {
   "cell_type": "code",
   "execution_count": 5,
   "id": "7079d618",
   "metadata": {},
   "outputs": [
    {
     "data": {
      "text/plain": [
       "int"
      ]
     },
     "execution_count": 5,
     "metadata": {},
     "output_type": "execute_result"
    }
   ],
   "source": [
    "type(5 * 2)"
   ]
  },
  {
   "cell_type": "code",
   "execution_count": 6,
   "id": "136def2a",
   "metadata": {},
   "outputs": [
    {
     "data": {
      "text/plain": [
       "str"
      ]
     },
     "execution_count": 6,
     "metadata": {},
     "output_type": "execute_result"
    }
   ],
   "source": [
    "type('5' * 2)"
   ]
  },
  {
   "cell_type": "code",
   "execution_count": 7,
   "id": "6011d66c",
   "metadata": {},
   "outputs": [
    {
     "data": {
      "text/plain": [
       "str"
      ]
     },
     "execution_count": 7,
     "metadata": {},
     "output_type": "execute_result"
    }
   ],
   "source": [
    "type('5' + '2')"
   ]
  },
  {
   "cell_type": "code",
   "execution_count": 36,
   "id": "1ad3c9a3",
   "metadata": {},
   "outputs": [
    {
     "data": {
      "text/plain": [
       "float"
      ]
     },
     "execution_count": 36,
     "metadata": {},
     "output_type": "execute_result"
    }
   ],
   "source": [
    "type (5/2)"
   ]
  },
  {
   "cell_type": "code",
   "execution_count": 37,
   "id": "21bec824",
   "metadata": {},
   "outputs": [
    {
     "data": {
      "text/plain": [
       "int"
      ]
     },
     "execution_count": 37,
     "metadata": {},
     "output_type": "execute_result"
    }
   ],
   "source": [
    "type (5%2)"
   ]
  },
  {
   "cell_type": "code",
   "execution_count": 9,
   "id": "99fd11e3",
   "metadata": {},
   "outputs": [
    {
     "data": {
      "text/plain": [
       "set"
      ]
     },
     "execution_count": 9,
     "metadata": {},
     "output_type": "execute_result"
    }
   ],
   "source": [
    "type({5, 2, 1})"
   ]
  },
  {
   "cell_type": "code",
   "execution_count": 10,
   "id": "36087f50",
   "metadata": {},
   "outputs": [
    {
     "data": {
      "text/plain": [
       "bool"
      ]
     },
     "execution_count": 10,
     "metadata": {},
     "output_type": "execute_result"
    }
   ],
   "source": [
    "type(5 == 3)"
   ]
  },
  {
   "cell_type": "code",
   "execution_count": 14,
   "id": "aaecf5e8",
   "metadata": {},
   "outputs": [
    {
     "data": {
      "text/plain": [
       "float"
      ]
     },
     "execution_count": 14,
     "metadata": {},
     "output_type": "execute_result"
    }
   ],
   "source": [
    "type(3.1416)"
   ]
  },
  {
   "cell_type": "markdown",
   "id": "3e04c128",
   "metadata": {},
   "source": [
    "# Question 2\n",
    "Write (and evaluate) python expressions that answer these questions:\n",
    "\n",
    "a. How many letters are there in 'Supercalifragilisticexpialidocious'?"
   ]
  },
  {
   "cell_type": "code",
   "execution_count": 15,
   "id": "46aa4d32",
   "metadata": {},
   "outputs": [
    {
     "name": "stdout",
     "output_type": "stream",
     "text": [
      "34\n"
     ]
    }
   ],
   "source": [
    "word = 'Supercalifragilisticexpialidocious'\n",
    "print(len(word))\n"
   ]
  },
  {
   "cell_type": "markdown",
   "id": "5b5cf91c",
   "metadata": {},
   "source": [
    "b.Does 'Supercalifragilisticexpialidocious' contain 'ice' as a substring?"
   ]
  },
  {
   "cell_type": "code",
   "execution_count": 20,
   "id": "f0e20e1b",
   "metadata": {},
   "outputs": [
    {
     "name": "stdout",
     "output_type": "stream",
     "text": [
      "True\n"
     ]
    }
   ],
   "source": [
    "word = 'Supercalifragilisticexpialidocious'\n",
    "substring = 'ice'\n",
    "print(contains_substring)\n"
   ]
  },
  {
   "cell_type": "markdown",
   "id": "6d56279c",
   "metadata": {},
   "source": [
    "c. Which of the following words is the longest:\n",
    "Supercalifragilisticexpialidocious, Honorificabilitudinitatibus, or\n",
    "Bababadalgharaghtakamminarronnkonn? "
   ]
  },
  {
   "cell_type": "code",
   "execution_count": 30,
   "id": "583895b1",
   "metadata": {},
   "outputs": [
    {
     "name": "stdout",
     "output_type": "stream",
     "text": [
      "There are multiple longest words:\n",
      "Supercalifragilisticexpialidocious\n",
      "Bababadalgharaghtakamminarronnkonn\n"
     ]
    }
   ],
   "source": [
    "word1 = \"Supercalifragilisticexpialidocious\"\n",
    "word2 = \"Honorificabilitudinitatibus\"\n",
    "word3 = \"Bababadalgharaghtakamminarronnkonn\"\n",
    "\n",
    "length_word1 = len(word1)\n",
    "length_word2 = len(word2)\n",
    "length_word3 = len(word3)\n",
    "\n",
    "if length_word1 > length_word2 and length_word1 > length_word3:\n",
    "    print(\"The longest word is:\", word1)\n",
    "elif length_word2 > length_word1 and length_word2 > length_word3:\n",
    "    print(\"The longest word is:\", word2)\n",
    "elif length_word3 > length_word1 and length_word3 > length_word2:\n",
    "    print(\"The longest word is:\", word3)\n",
    "else:\n",
    "    print(\"There are multiple longest words:\")\n",
    "    if length_word1 == length_word2:\n",
    "        print(word1)\n",
    "        print(word2)\n",
    "    if length_word1 == length_word3:\n",
    "        print(word1)\n",
    "        print(word3)\n",
    "    if length_word2 == length_word3:\n",
    "        print(word2)\n",
    "        print(word3)"
   ]
  },
  {
   "cell_type": "markdown",
   "id": "f4ecf1d4",
   "metadata": {},
   "source": [
    "d.Which composer comes first in the dictionary: 'Berlioz', 'Borodin', 'Brian',\n",
    "'Bartok', 'Bellini', 'Buxtehude', 'Bernstein'. Which one comes last"
   ]
  },
  {
   "cell_type": "code",
   "execution_count": 34,
   "id": "1b0dd515",
   "metadata": {},
   "outputs": [
    {
     "name": "stdout",
     "output_type": "stream",
     "text": [
      "The composer that comes first in the dictionary is: Bartok\n",
      "The composer that comes last in the dictionary is: Buxtehude\n"
     ]
    }
   ],
   "source": [
    "composers = ('Berlioz', 'Borodin', 'Brian', 'Bartok', 'Bellini', 'Buxtehude', 'Bernstein')\n",
    "first_composer = min(composers)\n",
    "last_composer = max(composers)\n",
    "print(\"The composer that comes first in the dictionary is:\", first_composer)\n",
    "print(\"The composer that comes last in the dictionary is:\", last_composer)\n"
   ]
  },
  {
   "cell_type": "markdown",
   "id": "fed6623e",
   "metadata": {},
   "source": [
    "# Question 3\n",
    "Implement function triangleArea(a,b,c) that takes as input the lengths of the 3\n",
    "sides of a triangle and returns the area of the triangle. By Heron's formula, the area\n",
    "of a triangle with side lengths a, b, and c is\n",
    "s(s - a)(s -b)(s -c)\n",
    ", where\n",
    "s = (a+b+c)/2.\n",
    ">>> triangleArea(2,2,2)\n",
    "1.7320508075688772"
   ]
  },
  {
   "cell_type": "code",
   "execution_count": 35,
   "id": "168e80e1",
   "metadata": {},
   "outputs": [
    {
     "name": "stdout",
     "output_type": "stream",
     "text": [
      "1.7320508075688772\n"
     ]
    }
   ],
   "source": [
    "import math\n",
    "def triangleArea(a, b, c):\n",
    "    s = (a + b + c) / 2\n",
    "# Calculate the area using Heron's formula\n",
    "    area = math.sqrt(s * (s - a) * (s - b) * (s - c))\n",
    "    return area\n",
    "print(triangleArea(2, 2, 2))\n"
   ]
  },
  {
   "cell_type": "markdown",
   "id": "0b111d71",
   "metadata": {},
   "source": [
    "# Question 4\n",
    "Write a program in python to separate odd and even integers in separate arrays. \n",
    "Go to the editor\n",
    "Test Data :\n",
    "\n",
    "Input the number of elements to be stored in the array :5\n",
    "\n",
    "Input 5 elements in the array :\n",
    "\n",
    "element - 0 : 25\n",
    "\n",
    "element - 1 : 47\n",
    "\n",
    "element - 2 : 42\n",
    "\n",
    "element - 3 : 56\n",
    "\n",
    "element - 4 : 32\n",
    "\n",
    "Expected Output:\n",
    "\n",
    "The Even elements are:\n",
    "\n",
    "42 56 32\n",
    "\n",
    "The Odd elements are :\n",
    "\n",
    "25 47"
   ]
  },
  {
   "cell_type": "code",
   "execution_count": 73,
   "id": "6f514803",
   "metadata": {},
   "outputs": [
    {
     "name": "stdout",
     "output_type": "stream",
     "text": [
      "Input the number of elements to be stored in the array: 5\n",
      "element - 0 : 25\n",
      "element - 1 : 47\n",
      "element - 2 : 42\n",
      "element - 3 : 56\n",
      "element - 4 : 32\n",
      "The Even elements are:\n",
      "42 56 32\n",
      "The Odd elements are:\n",
      "25 47\n"
     ]
    }
   ],
   "source": [
    "def separate_odd_even(numbers):\n",
    "    even_numbers = []\n",
    "    odd_numbers = []\n",
    "\n",
    "    for num in numbers:\n",
    "        if num % 2 == 0:\n",
    "            even_numbers.append(num)\n",
    "        else:\n",
    "            odd_numbers.append(num)\n",
    "\n",
    "    return even_numbers, odd_numbers\n",
    "\n",
    "# Input the number of elements\n",
    "num_elements = int(input(\"Input the number of elements to be stored in the array: \"))\n",
    "\n",
    "# Input elements in the array\n",
    "numbers = []\n",
    "for i in range(num_elements):\n",
    "    num = int(input(f\"element - {i} : \"))\n",
    "    numbers.append(num)\n",
    "\n",
    "# Separating odd and even numbers\n",
    "even, odd = separate_odd_even(numbers)\n",
    "print(\"The Even elements are:\")\n",
    "print(' '.join(map(str, even)))\n",
    "print(\"The Odd elements are:\")\n",
    "print(' '.join(map(str, odd)))\n"
   ]
  },
  {
   "cell_type": "markdown",
   "id": "622923bf",
   "metadata": {},
   "source": [
    "# Question 5\n",
    "a. Write a function inside(x,y,x1,y1,x2,y2) that returns True or False\n",
    "depending on whether the point (x,y) lies in the rectangle with lower left\n",
    "corner (x1,y1) and upper right corner (x2,y2).\n",
    "\n",
    ">>> inside(1,1,0,0,2,3)\n",
    "\n",
    "True\n",
    "\n",
    ">>> inside(-1,-1,0,0,2,3)\n",
    "\n",
    "False"
   ]
  },
  {
   "cell_type": "code",
   "execution_count": 56,
   "id": "bcc78746",
   "metadata": {},
   "outputs": [
    {
     "name": "stdout",
     "output_type": "stream",
     "text": [
      "True\n",
      "False\n"
     ]
    }
   ],
   "source": [
    "def inside(x,y,x1,y1,x2,y2):\n",
    "   print (x1 <= x <= x2 and y1 <= y <= y2)\n",
    "\n",
    "\n",
    "\n",
    "inside(1,1,0,0,2,3) \n",
    "inside(-1,-1,0,0,2,3) "
   ]
  },
  {
   "cell_type": "markdown",
   "id": "9729f322",
   "metadata": {},
   "source": [
    "b.Use function inside() from part a. to write an expression that tests whether\n",
    "the point (1,1) lies in both of the following rectangles: one with lower left\n",
    "corner (0.3, 0.5) and upper right corner (1.1, 0.7) and the other with lower\n",
    "left corner (0.5, 0.2) and upper right corner (1.1, 2). "
   ]
  },
  {
   "cell_type": "code",
   "execution_count": 58,
   "id": "449ec36a",
   "metadata": {},
   "outputs": [
    {
     "name": "stdout",
     "output_type": "stream",
     "text": [
      "False\n",
      "True\n"
     ]
    }
   ],
   "source": [
    "\n",
    "def inside(x,y,x1,y1,x2,y2):\n",
    "   print (x1 <= x <= x2 and y1 <= y <= y2)\n",
    "inside(1, 1, 0.3, 0.5, 1.1, 0.7)\n",
    "inside(1, 1, 0.5, 0.2, 1.1, 2)\n"
   ]
  },
  {
   "cell_type": "code",
   "execution_count": 59,
   "id": "bb08d6ba",
   "metadata": {},
   "outputs": [
    {
     "name": "stdout",
     "output_type": "stream",
     "text": [
      "False\n",
      "True\n",
      "The point (1,1) does not lie in both rectangles.\n"
     ]
    }
   ],
   "source": [
    "rectangle1 = (0.3, 0.5, 1.1, 0.7)\n",
    "rectangle2 = (0.5, 0.2, 1.1, 2)\n",
    "\n",
    "# Test if the point (1,1) lies within both rectangles\n",
    "point_inside_rectangle1 = inside(1, 1, *rectangle1)\n",
    "point_inside_rectangle2 = inside(1, 1, *rectangle2)\n",
    "\n",
    "if point_inside_rectangle1 and point_inside_rectangle2:\n",
    "    print(\"The point (1,1) lies in both rectangles.\")\n",
    "else:\n",
    "    print(\"The point (1,1) does not lie in both rectangles.\")\n"
   ]
  },
  {
   "cell_type": "markdown",
   "id": "05ae53d8",
   "metadata": {},
   "source": [
    "# Question 6\n",
    "You can turn a word into pig-Latin using the following two rules (simplified):\n",
    "\n",
    "• If the word starts with a consonant, move that letter to the end and append\n",
    "'ay'. For example, 'happy' becomes 'appyhay' and 'pencil' becomes 'encilpay'.\n",
    "\n",
    "• If the word starts with a vowel, simply append 'way' to the end of the word.\n",
    "For example, 'enter' becomes 'enterway' and 'other' becomes 'otherway' . For\n",
    "our purposes, there are 5 vowels: a, e, i, o, u (so we count y as a consonant).\n",
    "\n",
    "Write a function pig() that takes a word (i.e., a string) as input and returns its pigLatin form. Your function should still work if the input word contains upper case\n",
    "characters. Your output should always be lower case however.\n",
    "\n",
    ">>> pig('happy')\n",
    "\n",
    "'appyhay'\n",
    "\n",
    ">>> pig('Enter')\n",
    "\n",
    "'enterway' "
   ]
  },
  {
   "cell_type": "code",
   "execution_count": 67,
   "id": "03411a44",
   "metadata": {},
   "outputs": [
    {
     "name": "stdout",
     "output_type": "stream",
     "text": [
      "appyhay\n",
      "enterway\n"
     ]
    }
   ],
   "source": [
    "def pig(word):\n",
    "    vowels = ['a', 'e', 'i', 'o', 'u']\n",
    "    # Convert the word to lowercase\n",
    "    word = word.lower()\n",
    "    \n",
    "    # Check if the first letter is a vowel\n",
    "    if word[0] in vowels:\n",
    "        return word + 'way'\n",
    "    else:\n",
    "        return word[1:] + word[0] + 'ay'\n",
    "    \n",
    "# Test cases\n",
    "print(pig('happy'))\n",
    "print(pig('Enter'))  \n"
   ]
  },
  {
   "cell_type": "markdown",
   "id": "68171918",
   "metadata": {},
   "source": [
    "# Question 7\n",
    "File bloodtype1.txt records blood-types of patients (A, B, AB, O or OO) at a clinic.\n",
    "Write a function bldcount() that reads the file with name name and reports (i.e.,\n",
    "prints) how many patients there are in each bloodtype.\n",
    "\n",
    ">>> bldcount('bloodtype.txt')\n",
    "\n",
    "There are 10 patients of blood type A.\n",
    "\n",
    "There is one patient of blood type B.\n",
    "\n",
    "There are 10 patients of blood type AB.\n",
    "\n",
    "There are 12 patients of blood type O.\n",
    "\n",
    "There are no patients of blood type OO.\n"
   ]
  },
  {
   "cell_type": "code",
   "execution_count": 103,
   "id": "40df2e1a",
   "metadata": {},
   "outputs": [
    {
     "name": "stdout",
     "output_type": "stream",
     "text": [
      "There are 15 patients of blood type A.\n",
      "There is one patient of blood type B.\n",
      "There are 13 patients of blood type AB.\n",
      "There are 15 patients of blood type O.\n",
      "There are no patients of blood type OO.\n"
     ]
    }
   ],
   "source": [
    "def bldcount(filename):\n",
    "    blood_count = {'A': 0, 'B': 0, 'AB': 0, 'O': 0, 'OO': 0}\n",
    "    with open(filename, 'r') as file:\n",
    "        blood_types = file.read().split()\n",
    "    for blood_type in blood_types:\n",
    "            if blood_type in blood_count:\n",
    "                blood_count[blood_type] += 1\n",
    "    for blood_type, count in blood_count.items():\n",
    "        if count == 1:\n",
    "            print(f\"There is one patient of blood type {blood_type}.\")\n",
    "        elif count == 0:\n",
    "            print(f\"There are no patients of blood type {blood_type}.\")\n",
    "        else:\n",
    "            print(f\"There are {count} patients of blood type {blood_type}.\")\n",
    "# Test the function with the provided file name\n",
    "bldcount('bloodtype1.txt')\n"
   ]
  },
  {
   "cell_type": "markdown",
   "id": "84ab169f",
   "metadata": {},
   "source": [
    "# Question 8\n",
    "Write a function curconv() that takes as input:\n",
    "1. a currency represented using a string (e.g., 'JPY' for the Japanese Yen or\n",
    "'EUR' for the Euro)\n",
    "2. an amount\n",
    "and then converts and returns the amount in US dollars.\n",
    ">>> curconv('EUR', 100)\n",
    "\n",
    "122.96544\n",
    "\n",
    ">>> curconv('JPY', 100)\n",
    "1.241401\n",
    "\n",
    "The currency rates you will need are stored in file currencies.txt:\n",
    "\n",
    "AUD 1.0345157 Australian Dollar\n",
    "\n",
    "CHF 1.0237414 Swiss Franc\n",
    "\n",
    "CNY 0.1550176 Chinese Yuan\n",
    "\n",
    "DKK 0.1651442 Danish Krone\n",
    "\n",
    "EUR 1.2296544 Euro\n",
    "\n",
    "GBP 1.5550989 British Pound\n",
    "\n",
    "HKD 0.1270207 Hong Kong Dollar\n",
    "\n",
    "INR 0.0177643 Indian Rupee\n",
    "\n",
    "JPY 0.01241401 Japanese Yen\n",
    "\n",
    "MXN 0.0751848 Mexican Peso\n",
    "\n",
    "MYR 0.3145411 Malaysian Ringgit\n",
    "\n",
    "NOK 0.1677063 Norwegian Krone\n",
    "\n",
    "NZD 0.8003591 New Zealand Dollar\n",
    "\n",
    "PHP 0.0233234 Philippine Peso\n",
    "\n",
    "SEK 0.148269 Swedish Krona\n",
    "\n",
    "SGD 0.788871 Singapore Dollar\n",
    "\n",
    "THB 0.0313789 Thai Baht"
   ]
  },
  {
   "cell_type": "code",
   "execution_count": 111,
   "id": "e6df1c54",
   "metadata": {},
   "outputs": [
    {
     "name": "stdout",
     "output_type": "stream",
     "text": [
      "122.96544\n",
      "1.241401\n"
     ]
    }
   ],
   "source": [
    "def curconv(currency, amount):\n",
    "    # Dictionary to store the currency rates\n",
    "    currency_rates = {}\n",
    "    \n",
    "    # Open the file and read each line\n",
    "    with open('currencies.txt', 'r') as file:\n",
    "        for line in file:\n",
    "            # Split the line into currency code, exchange rate, and currency name\n",
    "            code, rate, *name = line.split()\n",
    "            # Store the currency code and its exchange rate in the dictionary\n",
    "            currency_rates[code] = float(rate)\n",
    "    \n",
    "    # Convert the amount to US dollars based on the provided currency\n",
    "    usd_amount = amount * currency_rates[currency]\n",
    "    \n",
    "    return usd_amount\n",
    "\n",
    "# Test the function with provided examples\n",
    "print(curconv('EUR', 100)) \n",
    "print(curconv('JPY', 100)) \n"
   ]
  },
  {
   "cell_type": "markdown",
   "id": "8b9e480d",
   "metadata": {},
   "source": [
    "# Question 9\n",
    "Each of the following will cause an exception (an error). Identify what type of\n",
    "exception each will cause.\n",
    "\n",
    "Trying to add incompatible variables, as in\n",
    "adding 6 + ‘a’\n",
    "\n",
    "Referring to the 12th item of a list that has only 10\n",
    "items\n",
    "\n",
    "Using a value that is out of range for a function’s\n",
    "input, such as calling math.sqrt(-1.0)\n",
    "\n",
    "Using an undeclared variable, such as print(x)\n",
    "when x has not been defined\n",
    "\n",
    "Trying to open a file that does not exist, such as\n",
    "mistyping the file name or looking in the wrong\n",
    "directory. "
   ]
  },
  {
   "cell_type": "code",
   "execution_count": 86,
   "id": "a0be2d1f",
   "metadata": {},
   "outputs": [
    {
     "ename": "TypeError",
     "evalue": "unsupported operand type(s) for +: 'int' and 'str'",
     "output_type": "error",
     "traceback": [
      "\u001b[1;31m---------------------------------------------------------------------------\u001b[0m",
      "\u001b[1;31mTypeError\u001b[0m                                 Traceback (most recent call last)",
      "Cell \u001b[1;32mIn[86], line 1\u001b[0m\n\u001b[1;32m----> 1\u001b[0m \u001b[38;5;241m6\u001b[39m \u001b[38;5;241m+\u001b[39m \u001b[38;5;124m'\u001b[39m\u001b[38;5;124ma\u001b[39m\u001b[38;5;124m'\u001b[39m\n",
      "\u001b[1;31mTypeError\u001b[0m: unsupported operand type(s) for +: 'int' and 'str'"
     ]
    }
   ],
   "source": [
    "6 + 'a'\n",
    "# TypeError: unsupported operand type(s) for +: 'int' and 'str'"
   ]
  },
  {
   "cell_type": "markdown",
   "id": "0f1fe4a7",
   "metadata": {},
   "source": [
    "This will cause a 'TypeError' because Python cannot add an integer ('6') and a string ('a')."
   ]
  },
  {
   "cell_type": "code",
   "execution_count": 85,
   "id": "4ea7f86b",
   "metadata": {},
   "outputs": [
    {
     "ename": "IndexError",
     "evalue": "list index out of range",
     "output_type": "error",
     "traceback": [
      "\u001b[1;31m---------------------------------------------------------------------------\u001b[0m",
      "\u001b[1;31mIndexError\u001b[0m                                Traceback (most recent call last)",
      "Cell \u001b[1;32mIn[85], line 2\u001b[0m\n\u001b[0;32m      1\u001b[0m my_list \u001b[38;5;241m=\u001b[39m [\u001b[38;5;241m1\u001b[39m, \u001b[38;5;241m2\u001b[39m, \u001b[38;5;241m3\u001b[39m, \u001b[38;5;241m4\u001b[39m, \u001b[38;5;241m5\u001b[39m, \u001b[38;5;241m6\u001b[39m, \u001b[38;5;241m7\u001b[39m, \u001b[38;5;241m8\u001b[39m, \u001b[38;5;241m9\u001b[39m, \u001b[38;5;241m10\u001b[39m]\n\u001b[1;32m----> 2\u001b[0m \u001b[38;5;28mprint\u001b[39m(my_list[\u001b[38;5;241m12\u001b[39m])\n",
      "\u001b[1;31mIndexError\u001b[0m: list index out of range"
     ]
    }
   ],
   "source": [
    "my_list = [1, 2, 3, 4, 5, 6, 7, 8, 9, 10]\n",
    "print(my_list[12])\n",
    "# IndexError: list index out of range\n"
   ]
  },
  {
   "cell_type": "markdown",
   "id": "60a66307",
   "metadata": {},
   "source": [
    "This will cause an 'IndexError' because you are trying to access an index that is out of the valid range for the list."
   ]
  },
  {
   "cell_type": "code",
   "execution_count": 87,
   "id": "6c62e432",
   "metadata": {},
   "outputs": [
    {
     "ename": "ValueError",
     "evalue": "math domain error",
     "output_type": "error",
     "traceback": [
      "\u001b[1;31m---------------------------------------------------------------------------\u001b[0m",
      "\u001b[1;31mValueError\u001b[0m                                Traceback (most recent call last)",
      "Cell \u001b[1;32mIn[87], line 2\u001b[0m\n\u001b[0;32m      1\u001b[0m \u001b[38;5;28;01mimport\u001b[39;00m \u001b[38;5;21;01mmath\u001b[39;00m\n\u001b[1;32m----> 2\u001b[0m math\u001b[38;5;241m.\u001b[39msqrt(\u001b[38;5;241m-\u001b[39m\u001b[38;5;241m1.0\u001b[39m)\n",
      "\u001b[1;31mValueError\u001b[0m: math domain error"
     ]
    }
   ],
   "source": [
    "import math\n",
    "math.sqrt(-1.0)\n",
    "# ValueError: math domain error"
   ]
  },
  {
   "cell_type": "markdown",
   "id": "e4c3cd9b",
   "metadata": {},
   "source": [
    "This will cause a 'ValueError' because the square root function cannot handle negative numbers (in the real number domain)."
   ]
  },
  {
   "cell_type": "code",
   "execution_count": 88,
   "id": "43eea98e",
   "metadata": {},
   "outputs": [
    {
     "ename": "NameError",
     "evalue": "name 'x' is not defined",
     "output_type": "error",
     "traceback": [
      "\u001b[1;31m---------------------------------------------------------------------------\u001b[0m",
      "\u001b[1;31mNameError\u001b[0m                                 Traceback (most recent call last)",
      "Cell \u001b[1;32mIn[88], line 1\u001b[0m\n\u001b[1;32m----> 1\u001b[0m \u001b[38;5;28mprint\u001b[39m(x)\n",
      "\u001b[1;31mNameError\u001b[0m: name 'x' is not defined"
     ]
    }
   ],
   "source": [
    "print(x)\n",
    "# NameError: name 'x' is not defined"
   ]
  },
  {
   "cell_type": "markdown",
   "id": "7fe1c1c8",
   "metadata": {},
   "source": [
    "This will cause a 'NameError' because x has not been defined before it is used."
   ]
  },
  {
   "cell_type": "code",
   "execution_count": 89,
   "id": "237bdfb5",
   "metadata": {},
   "outputs": [
    {
     "ename": "FileNotFoundError",
     "evalue": "[Errno 2] No such file or directory: 'nonexistent_file.txt'",
     "output_type": "error",
     "traceback": [
      "\u001b[1;31m---------------------------------------------------------------------------\u001b[0m",
      "\u001b[1;31mFileNotFoundError\u001b[0m                         Traceback (most recent call last)",
      "Cell \u001b[1;32mIn[89], line 1\u001b[0m\n\u001b[1;32m----> 1\u001b[0m \u001b[38;5;28mopen\u001b[39m(\u001b[38;5;124m'\u001b[39m\u001b[38;5;124mnonexistent_file.txt\u001b[39m\u001b[38;5;124m'\u001b[39m, \u001b[38;5;124m'\u001b[39m\u001b[38;5;124mr\u001b[39m\u001b[38;5;124m'\u001b[39m)\n",
      "File \u001b[1;32m~\\anaconda3\\Lib\\site-packages\\IPython\\core\\interactiveshell.py:286\u001b[0m, in \u001b[0;36m_modified_open\u001b[1;34m(file, *args, **kwargs)\u001b[0m\n\u001b[0;32m    279\u001b[0m \u001b[38;5;28;01mif\u001b[39;00m file \u001b[38;5;129;01min\u001b[39;00m {\u001b[38;5;241m0\u001b[39m, \u001b[38;5;241m1\u001b[39m, \u001b[38;5;241m2\u001b[39m}:\n\u001b[0;32m    280\u001b[0m     \u001b[38;5;28;01mraise\u001b[39;00m \u001b[38;5;167;01mValueError\u001b[39;00m(\n\u001b[0;32m    281\u001b[0m         \u001b[38;5;124mf\u001b[39m\u001b[38;5;124m\"\u001b[39m\u001b[38;5;124mIPython won\u001b[39m\u001b[38;5;124m'\u001b[39m\u001b[38;5;124mt let you open fd=\u001b[39m\u001b[38;5;132;01m{\u001b[39;00mfile\u001b[38;5;132;01m}\u001b[39;00m\u001b[38;5;124m by default \u001b[39m\u001b[38;5;124m\"\u001b[39m\n\u001b[0;32m    282\u001b[0m         \u001b[38;5;124m\"\u001b[39m\u001b[38;5;124mas it is likely to crash IPython. If you know what you are doing, \u001b[39m\u001b[38;5;124m\"\u001b[39m\n\u001b[0;32m    283\u001b[0m         \u001b[38;5;124m\"\u001b[39m\u001b[38;5;124myou can use builtins\u001b[39m\u001b[38;5;124m'\u001b[39m\u001b[38;5;124m open.\u001b[39m\u001b[38;5;124m\"\u001b[39m\n\u001b[0;32m    284\u001b[0m     )\n\u001b[1;32m--> 286\u001b[0m \u001b[38;5;28;01mreturn\u001b[39;00m io_open(file, \u001b[38;5;241m*\u001b[39margs, \u001b[38;5;241m*\u001b[39m\u001b[38;5;241m*\u001b[39mkwargs)\n",
      "\u001b[1;31mFileNotFoundError\u001b[0m: [Errno 2] No such file or directory: 'nonexistent_file.txt'"
     ]
    }
   ],
   "source": [
    "open('nonexistent_file.txt', 'r')\n",
    "# FileNotFoundError: [Errno 2] No such file or directory: 'nonexistent_file.txt'\n"
   ]
  },
  {
   "cell_type": "markdown",
   "id": "b3c2425d",
   "metadata": {},
   "source": [
    "This will cause a 'FileNotFoundError' because the file cannot be found at the specified path."
   ]
  },
  {
   "cell_type": "markdown",
   "id": "2d5da6ed",
   "metadata": {},
   "source": [
    "Summary,\n",
    "\n",
    "TypeError: Trying to add incompatible variables (6 + 'a')\n",
    "\n",
    "IndexError: Referring to an out-of-range list index\n",
    "\n",
    "ValueError: Using an inappropriate value for a function's input (math.sqrt(-1.0))\n",
    "\n",
    "NameError: Using an undeclared variable (print(x) when x is not defined)\n",
    "\n",
    "FileNotFoundError: Trying to open a file that does not exist"
   ]
  },
  {
   "cell_type": "markdown",
   "id": "78591407",
   "metadata": {},
   "source": [
    "# Question 10\n",
    "Encryption is the process of hiding the meaning of a text by substituting letters in the\n",
    "message with other letters, according to some system. If the process is successful, no\n",
    "one but the intended recipient can understand the encrypted message. Cryptanalysis\n",
    "refers to attempts to undo the encryption, even if some details of the encryption are\n",
    "unknown (for example, if an encrypted message has been intercepted). The first step\n",
    "of cryptanalysis is often to build up a table of letter frequencies in the encrypted text.\n",
    "Assume that the string letters is already defined as\n",
    "'abcdefghijklmnopqrstuvwxyz'. Write a function called frequencies()\n",
    "that takes a string as its only parameter, and returns a list of integers, showing the\n",
    "number of times each character appears in the text. Your function may ignore any\n",
    "characters that are not in letters.\n",
    "\n",
    ">>> frequencies('The quick red fox got bored and went home.')\n",
    "[1, 1, 1, 3, 5, 1, 1, 2, 1, 0, 1, 0, 1, 2, 4, 0, 1, 2, 0, 2,\n",
    "1, 0, 1, 1, 0, 0]\n",
    ">>> frequencies('apple')"
   ]
  },
  {
   "cell_type": "code",
   "execution_count": 91,
   "id": "2b417a28",
   "metadata": {},
   "outputs": [
    {
     "name": "stdout",
     "output_type": "stream",
     "text": [
      "[1, 1, 1, 3, 5, 1, 1, 2, 1, 0, 1, 0, 1, 2, 4, 0, 1, 2, 0, 3, 1, 0, 1, 1, 0, 0]\n",
      "[1, 0, 0, 0, 1, 0, 0, 0, 0, 0, 0, 1, 0, 0, 0, 2, 0, 0, 0, 0, 0, 0, 0, 0, 0, 0]\n"
     ]
    }
   ],
   "source": [
    "def frequencies(text):\n",
    "    letters = 'abcdefghijklmnopqrstuvwxyz'\n",
    "    freq_list = [0] * len(letters)\n",
    "    \n",
    "    text = text.lower()\n",
    "    \n",
    "    # Count the occurrences of each letter in the text\n",
    "    for char in text:\n",
    "        if char in letters:\n",
    "            index = letters.index(char)\n",
    "            freq_list[index] += 1\n",
    "    \n",
    "    return freq_list\n",
    "print(frequencies('The quick red fox got bored and went home.'))\n",
    "print(frequencies('apple'))\n"
   ]
  },
  {
   "cell_type": "code",
   "execution_count": null,
   "id": "5f2f6cf8",
   "metadata": {},
   "outputs": [],
   "source": []
  }
 ],
 "metadata": {
  "kernelspec": {
   "display_name": "Python 3 (ipykernel)",
   "language": "python",
   "name": "python3"
  },
  "language_info": {
   "codemirror_mode": {
    "name": "ipython",
    "version": 3
   },
   "file_extension": ".py",
   "mimetype": "text/x-python",
   "name": "python",
   "nbconvert_exporter": "python",
   "pygments_lexer": "ipython3",
   "version": "3.11.5"
  }
 },
 "nbformat": 4,
 "nbformat_minor": 5
}
